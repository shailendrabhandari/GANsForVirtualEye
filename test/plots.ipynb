{
 "cells": [
  {
   "cell_type": "code",
   "execution_count": 7,
   "metadata": {},
   "outputs": [],
   "source": [
    "import numpy as np\n",
    "import matplotlib.pyplot as plt\n",
    "from mpl_toolkits.axes_grid1.inset_locator import inset_axes\n",
    "import os\n"
   ]
  },
  {
   "cell_type": "code",
   "execution_count": 8,
   "metadata": {},
   "outputs": [
    {
     "ename": "FileNotFoundError",
     "evalue": "Required .npy files (score_20_steps_SS.npy or computation_time_20_steps_SS.npy) not found.",
     "output_type": "error",
     "traceback": [
      "\u001b[0;31m---------------------------------------------------------------------------\u001b[0m",
      "\u001b[0;31mFileNotFoundError\u001b[0m                         Traceback (most recent call last)",
      "Cell \u001b[0;32mIn[8], line 3\u001b[0m\n\u001b[1;32m      1\u001b[0m \u001b[38;5;66;03m# Check if the .npy files exist\u001b[39;00m\n\u001b[1;32m      2\u001b[0m \u001b[38;5;28;01mif\u001b[39;00m \u001b[38;5;129;01mnot\u001b[39;00m os\u001b[38;5;241m.\u001b[39mpath\u001b[38;5;241m.\u001b[39mexists(\u001b[38;5;124m'\u001b[39m\u001b[38;5;124mscore_20_steps_SS.npy\u001b[39m\u001b[38;5;124m'\u001b[39m) \u001b[38;5;129;01mor\u001b[39;00m \u001b[38;5;129;01mnot\u001b[39;00m os\u001b[38;5;241m.\u001b[39mpath\u001b[38;5;241m.\u001b[39mexists(\u001b[38;5;124m'\u001b[39m\u001b[38;5;124mcomputation_time_20_steps_SS.npy\u001b[39m\u001b[38;5;124m'\u001b[39m):\n\u001b[0;32m----> 3\u001b[0m     \u001b[38;5;28;01mraise\u001b[39;00m \u001b[38;5;167;01mFileNotFoundError\u001b[39;00m(\u001b[38;5;124m\"\u001b[39m\u001b[38;5;124mRequired .npy files (score_20_steps_SS.npy or computation_time_20_steps_SS.npy) not found.\u001b[39m\u001b[38;5;124m\"\u001b[39m)\n\u001b[1;32m      5\u001b[0m \u001b[38;5;66;03m# Load saved scores and computation times\u001b[39;00m\n\u001b[1;32m      6\u001b[0m score \u001b[38;5;241m=\u001b[39m np\u001b[38;5;241m.\u001b[39mload(\u001b[38;5;124m'\u001b[39m\u001b[38;5;124mscore_20_steps_SS.npy\u001b[39m\u001b[38;5;124m'\u001b[39m)\n",
      "\u001b[0;31mFileNotFoundError\u001b[0m: Required .npy files (score_20_steps_SS.npy or computation_time_20_steps_SS.npy) not found."
     ]
    }
   ],
   "source": [
    "# Check if the .npy files exist\n",
    "if not os.path.exists('score_20_steps_SS.npy') or not os.path.exists('computation_time_20_steps_SS.npy'):\n",
    "    raise FileNotFoundError(\"Required .npy files (score_20_steps_SS.npy or computation_time_20_steps_SS.npy) not found.\")\n",
    "\n",
    "# Load saved scores and computation times\n",
    "score = np.load('./results_test/score_20_steps_SS.npy')\n",
    "time = np.load('./results_test/computation_time_20_steps_SS.npy')\n",
    "\n",
    "# Extract individual scores\n",
    "cnn_cnn_score = score[0]\n",
    "cnn_lstm_score = score[1]\n",
    "lstm_cnn_score = score[2]\n",
    "lstm_lstm_score = score[3]\n",
    "\n",
    "# Extract computation times\n",
    "cnn_cnn_time = time[0]\n",
    "cnn_lstm_time = time[1]\n",
    "lstm_cnn_time = time[2]\n",
    "lstm_lstm_time = time[3]\n"
   ]
  },
  {
   "cell_type": "code",
   "execution_count": null,
   "metadata": {},
   "outputs": [],
   "source": []
  },
  {
   "cell_type": "code",
   "execution_count": null,
   "metadata": {},
   "outputs": [],
   "source": []
  }
 ],
 "metadata": {
  "kernelspec": {
   "display_name": "myenv",
   "language": "python",
   "name": "python3"
  },
  "language_info": {
   "codemirror_mode": {
    "name": "ipython",
    "version": 3
   },
   "file_extension": ".py",
   "mimetype": "text/x-python",
   "name": "python",
   "nbconvert_exporter": "python",
   "pygments_lexer": "ipython3",
   "version": "3.11.7"
  }
 },
 "nbformat": 4,
 "nbformat_minor": 2
}
